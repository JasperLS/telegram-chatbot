{
 "cells": [
  {
   "cell_type": "code",
   "execution_count": 11,
   "id": "sitting-stick",
   "metadata": {},
   "outputs": [],
   "source": [
    "import os, sys, json , requests\n",
    "import pandas as pd, numpy as np, matplotlib.pyplot as plt\n",
    "from IPython.core.interactiveshell import InteractiveShell\n",
    "InteractiveShell.ast_node_interactivity = \"all\"#\"last_expr\" #all for debugging better\n",
    "pd.set_option('display.max_columns', 500,'display.max_rows',200,'display.max_colwidth',None)"
   ]
  },
  {
   "cell_type": "code",
   "execution_count": 24,
   "id": "impressive-fence",
   "metadata": {},
   "outputs": [
    {
     "data": {
      "text/plain": [
       "True"
      ]
     },
     "execution_count": 24,
     "metadata": {},
     "output_type": "execute_result"
    }
   ],
   "source": [
    "import os\n",
    "from dotenv import load_dotenv\n",
    "load_dotenv()\n",
    "\n",
    "TOKEN = os.getenv('TELEGRAM_TOKEN')\n",
    "TEXT = 'This is an example'"
   ]
  },
  {
   "cell_type": "code",
   "execution_count": 7,
   "id": "generic-tyler",
   "metadata": {},
   "outputs": [
    {
     "data": {
      "text/plain": [
       "<Response [200]>"
      ]
     },
     "execution_count": 7,
     "metadata": {},
     "output_type": "execute_result"
    }
   ],
   "source": [
    "answer = requests.get(f\"https://api.telegram.org/bot{TOKEN}/getUpdates\")\n",
    "answer"
   ]
  },
  {
   "cell_type": "code",
   "execution_count": 23,
   "id": "fewer-animal",
   "metadata": {},
   "outputs": [],
   "source": [
    "content = answer.content\n",
    "data = json.loads(content)\n",
    "chat_id = data['result'][0]['message']['from']['id']"
   ]
  },
  {
   "cell_type": "markdown",
   "id": "published-contractor",
   "metadata": {},
   "source": [
    "##### send message"
   ]
  },
  {
   "cell_type": "code",
   "execution_count": 25,
   "id": "responsible-imaging",
   "metadata": {},
   "outputs": [
    {
     "data": {
      "text/plain": [
       "<Response [200]>"
      ]
     },
     "execution_count": 25,
     "metadata": {},
     "output_type": "execute_result"
    }
   ],
   "source": [
    "params = {\"chat_id\":chat_id, \"text\":TEXT}\n",
    "url = f\"https://api.telegram.org/bot{TOKEN}/sendMessage\"\n",
    "message = requests.post(url, params=params)\n",
    "message"
   ]
  },
  {
   "cell_type": "markdown",
   "id": "strange-headquarters",
   "metadata": {},
   "source": [
    "##### get chat"
   ]
  },
  {
   "cell_type": "code",
   "execution_count": 28,
   "id": "essential-missile",
   "metadata": {},
   "outputs": [
    {
     "data": {
      "text/plain": [
       "{'ok': True,\n",
       " 'result': [{'update_id': 222297597,\n",
       "   'message': {'message_id': 1,\n",
       "    'from': {'id': 436115619,\n",
       "     'is_bot': False,\n",
       "     'first_name': 'Jasper',\n",
       "     'username': 'japadaya',\n",
       "     'language_code': 'de'},\n",
       "    'chat': {'id': 436115619,\n",
       "     'first_name': 'Jasper',\n",
       "     'username': 'japadaya',\n",
       "     'type': 'private'},\n",
       "    'date': 1653475842,\n",
       "    'text': '/start',\n",
       "    'entities': [{'offset': 0, 'length': 6, 'type': 'bot_command'}]}},\n",
       "  {'update_id': 222297598,\n",
       "   'message': {'message_id': 2,\n",
       "    'from': {'id': 436115619,\n",
       "     'is_bot': False,\n",
       "     'first_name': 'Jasper',\n",
       "     'username': 'japadaya',\n",
       "     'language_code': 'de'},\n",
       "    'chat': {'id': 436115619,\n",
       "     'first_name': 'Jasper',\n",
       "     'username': 'japadaya',\n",
       "     'type': 'private'},\n",
       "    'date': 1653475849,\n",
       "    'text': 'Moin Diggi'}},\n",
       "  {'update_id': 222297599,\n",
       "   'message': {'message_id': 4,\n",
       "    'from': {'id': 436115619,\n",
       "     'is_bot': False,\n",
       "     'first_name': 'Jasper',\n",
       "     'username': 'japadaya',\n",
       "     'language_code': 'de'},\n",
       "    'chat': {'id': 436115619,\n",
       "     'first_name': 'Jasper',\n",
       "     'username': 'japadaya',\n",
       "     'type': 'private'},\n",
       "    'date': 1653476507,\n",
       "    'text': 'Danke'}}]}"
      ]
     },
     "execution_count": 28,
     "metadata": {},
     "output_type": "execute_result"
    }
   ],
   "source": [
    "answer = requests.get(f\"https://api.telegram.org/bot{TOKEN}/getUpdates\")\n",
    "content = answer.content\n",
    "data = json.loads(content)\n",
    "data"
   ]
  },
  {
   "cell_type": "code",
   "execution_count": 48,
   "id": "curious-bleeding",
   "metadata": {},
   "outputs": [
    {
     "data": {
      "text/html": [
       "<div>\n",
       "<style scoped>\n",
       "    .dataframe tbody tr th:only-of-type {\n",
       "        vertical-align: middle;\n",
       "    }\n",
       "\n",
       "    .dataframe tbody tr th {\n",
       "        vertical-align: top;\n",
       "    }\n",
       "\n",
       "    .dataframe thead th {\n",
       "        text-align: right;\n",
       "    }\n",
       "</style>\n",
       "<table border=\"1\" class=\"dataframe\">\n",
       "  <thead>\n",
       "    <tr style=\"text-align: right;\">\n",
       "      <th></th>\n",
       "      <th>update_id</th>\n",
       "      <th>message</th>\n",
       "    </tr>\n",
       "  </thead>\n",
       "  <tbody>\n",
       "    <tr>\n",
       "      <th>0</th>\n",
       "      <td>222297597</td>\n",
       "      <td>{'message_id': 1, 'from': {'id': 436115619, 'is_bot': False, 'first_name': 'Jasper', 'username': 'japadaya', 'language_code': 'de'}, 'chat': {'id': 436115619, 'first_name': 'Jasper', 'username': 'japadaya', 'type': 'private'}, 'date': 1653475842, 'text': '/start', 'entities': [{'offset': 0, 'length': 6, 'type': 'bot_command'}]}</td>\n",
       "    </tr>\n",
       "    <tr>\n",
       "      <th>1</th>\n",
       "      <td>222297598</td>\n",
       "      <td>{'message_id': 2, 'from': {'id': 436115619, 'is_bot': False, 'first_name': 'Jasper', 'username': 'japadaya', 'language_code': 'de'}, 'chat': {'id': 436115619, 'first_name': 'Jasper', 'username': 'japadaya', 'type': 'private'}, 'date': 1653475849, 'text': 'Moin Diggi'}</td>\n",
       "    </tr>\n",
       "    <tr>\n",
       "      <th>2</th>\n",
       "      <td>222297599</td>\n",
       "      <td>{'message_id': 4, 'from': {'id': 436115619, 'is_bot': False, 'first_name': 'Jasper', 'username': 'japadaya', 'language_code': 'de'}, 'chat': {'id': 436115619, 'first_name': 'Jasper', 'username': 'japadaya', 'type': 'private'}, 'date': 1653476507, 'text': 'Danke'}</td>\n",
       "    </tr>\n",
       "  </tbody>\n",
       "</table>\n",
       "</div>"
      ],
      "text/plain": [
       "   update_id  \\\n",
       "0  222297597   \n",
       "1  222297598   \n",
       "2  222297599   \n",
       "\n",
       "                                                                                                                                                                                                                                                                                                                                     message  \n",
       "0  {'message_id': 1, 'from': {'id': 436115619, 'is_bot': False, 'first_name': 'Jasper', 'username': 'japadaya', 'language_code': 'de'}, 'chat': {'id': 436115619, 'first_name': 'Jasper', 'username': 'japadaya', 'type': 'private'}, 'date': 1653475842, 'text': '/start', 'entities': [{'offset': 0, 'length': 6, 'type': 'bot_command'}]}  \n",
       "1                                                               {'message_id': 2, 'from': {'id': 436115619, 'is_bot': False, 'first_name': 'Jasper', 'username': 'japadaya', 'language_code': 'de'}, 'chat': {'id': 436115619, 'first_name': 'Jasper', 'username': 'japadaya', 'type': 'private'}, 'date': 1653475849, 'text': 'Moin Diggi'}  \n",
       "2                                                                    {'message_id': 4, 'from': {'id': 436115619, 'is_bot': False, 'first_name': 'Jasper', 'username': 'japadaya', 'language_code': 'de'}, 'chat': {'id': 436115619, 'first_name': 'Jasper', 'username': 'japadaya', 'type': 'private'}, 'date': 1653476507, 'text': 'Danke'}  "
      ]
     },
     "execution_count": 48,
     "metadata": {},
     "output_type": "execute_result"
    }
   ],
   "source": [
    "pd.DataFrame.from_dict(data['result'])"
   ]
  }
 ],
 "metadata": {
  "kernelspec": {
   "display_name": "Python 3",
   "language": "python",
   "name": "python3"
  },
  "language_info": {
   "codemirror_mode": {
    "name": "ipython",
    "version": 3
   },
   "file_extension": ".py",
   "mimetype": "text/x-python",
   "name": "python",
   "nbconvert_exporter": "python",
   "pygments_lexer": "ipython3",
   "version": "3.8.8"
  }
 },
 "nbformat": 4,
 "nbformat_minor": 5
}
